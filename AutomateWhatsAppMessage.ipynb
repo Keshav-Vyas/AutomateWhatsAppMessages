{
 "cells": [
  {
   "cell_type": "markdown",
   "metadata": {},
   "source": [
    "# Automate WhatsApp Messaging Using Python"
   ]
  },
  {
   "cell_type": "markdown",
   "metadata": {},
   "source": [
    "#### **Install PyWhatKit Library:**\n",
    "`pip install pywhatkit`\n",
    "> To send WhatsApp messages automatically at specific times using pywhatkit, all you need is a Chrome browser and make sure you're logged into [WhatsApp](https://web.whatsapp.com/)."
   ]
  },
  {
   "cell_type": "markdown",
   "metadata": {},
   "source": [
    "## 1. Sending WhatsApp Messages Instantly:"
   ]
  },
  {
   "cell_type": "code",
   "execution_count": 6,
   "metadata": {},
   "outputs": [
    {
     "name": "stdout",
     "output_type": "stream",
     "text": [
      "Message sent successfully :)\n"
     ]
    }
   ],
   "source": [
    "import pywhatkit as k\n",
    "\n",
    "try:\n",
    "    # Specify the phone number (with country code) and the message\n",
    "    phoneNumber = \"+91XXXXXXXXXX\"\n",
    "    msg = \"Namaste from Python 👏🌻✨\"\n",
    "\n",
    "    # Send the message instantly\n",
    "    k.sendwhatmsg_instantly(phoneNumber, msg)\n",
    "    \n",
    "    # Print a success message if the message is sent without errors\n",
    "    print(\"Message sent successfully :)\")\n",
    "    \n",
    "except Exception as e:\n",
    "    # Print the error message if an exception occurs\n",
    "    print(\"An error occurred:\", e)\n"
   ]
  },
  {
   "cell_type": "markdown",
   "metadata": {},
   "source": [
    "## 2. Send WhatsApp message at a scheduled time:"
   ]
  },
  {
   "cell_type": "code",
   "execution_count": 7,
   "metadata": {},
   "outputs": [
    {
     "name": "stdout",
     "output_type": "stream",
     "text": [
      "In 30 Seconds WhatsApp will open and after 15 Seconds Message will be Delivered!\n",
      "Message scheduled to be sent at 10:25 successfully!\n"
     ]
    }
   ],
   "source": [
    "import pywhatkit as k\n",
    "\n",
    "phoneNumber = \"+91XXXXXXXXXX\"\n",
    "msg = \"Subhprabhat ☀️\"\n",
    "\n",
    "# Specify the time in 24-hour format (hour and minute)\n",
    "hour = 10\n",
    "minute = 25\n",
    "\n",
    "try:\n",
    "    # Send the message at the scheduled time\n",
    "    k.sendwhatmsg(phoneNumber, msg, hour, minute)\n",
    "    print(f\"Message scheduled to be sent at {hour}:{minute} successfully!\")\n",
    "    \n",
    "except Exception as e:\n",
    "    print(\"An error occurred:\", e)\n"
   ]
  },
  {
   "cell_type": "markdown",
   "metadata": {},
   "source": [
    "## 3. Send bulk WhatsApp messages:"
   ]
  },
  {
   "cell_type": "code",
   "execution_count": 9,
   "metadata": {},
   "outputs": [
    {
     "name": "stdout",
     "output_type": "stream",
     "text": [
      "Message sent successfully :)\n",
      "Message sent successfully :)\n"
     ]
    }
   ],
   "source": [
    "import pywhatkit as k\n",
    "\n",
    "# Specify the list of phone numbers\n",
    "phoneNumbers = [\"+91XXXXXXXXXX\", \"+91XXXXXXXXXX\"]\n",
    "msg = \"Hello\"\n",
    "\n",
    "try:\n",
    "    # Send the same message to multiple numbers\n",
    "    for phoneNumber in phoneNumbers:\n",
    "        k.sendwhatmsg_instantly(phoneNumber, msg)\n",
    "        print(f\"Message sent successfully :)\")\n",
    "        \n",
    "except Exception as e:\n",
    "    print(\"An error occurred:\", e)\n"
   ]
  },
  {
   "cell_type": "markdown",
   "metadata": {},
   "source": [
    "# Main - Objectives or Idea to Use Pywhatkit behind this Project:"
   ]
  },
  {
   "cell_type": "markdown",
   "metadata": {},
   "source": [
    "## 1 ~ To Schedule Birthday message:\n",
    "> Send warm birthday wishes to your friend without staying up late! This Python program will send a heartfelt birthday message at exactly 12 AM. After sending the message, it gracefully shuts down your Linux system after a 30-second delay, allowing you to extend your kindness while ensuring a peaceful night's sleep.\n",
    "\n",
    "> You can make your friend feel extra special on their birthday without disrupting your sleep schedule. Simply replace `\"+91XXXXXXXXXX\"` with your friend's phone number and customize the birthday message to add a personal touch.\n",
    "\n",
    "> For Windows users, a similar command is included in the code comments to shut down Windows after a 30-second delay (`os.system(\"shutdown /s /t 30\")`) :)\n"
   ]
  },
  {
   "cell_type": "code",
   "execution_count": null,
   "metadata": {},
   "outputs": [
    {
     "name": "stdout",
     "output_type": "stream",
     "text": [
      "In 51 Seconds WhatsApp will open and after 15 Seconds Message will be Delivered!\n"
     ]
    }
   ],
   "source": [
    "import pywhatkit as k\n",
    "import os\n",
    "\n",
    "phoneNumber = \"+91XXXXXXXXXX\"\n",
    "birthday_msg = \"Happy Birthday! 🎉🎂 May your day be filled with joy and blessings.\"\n",
    "\n",
    "# Send the birthday message at 12 AM\n",
    "k.sendwhatmsg(phoneNumber, birthday_msg, 0, 0)\n",
    "\n",
    "# Shutdown Linux after sending the message\n",
    "os.system(\"sleep 30s && shutdown now\")\n",
    "\n",
    "'''\n",
    "# To Shutdown Windows\n",
    "os.system(\"shutdown /s /t 30\")  # /s for shutdown, /t 30 for 30-second delay\n",
    "\n",
    "'''"
   ]
  },
  {
   "cell_type": "markdown",
   "metadata": {},
   "source": [
    "## 2 ~ To Prank your Friends :)\n",
    "> The idea is simple: pull off a prank on your friend.\n",
    "\n",
    "> Borrow their phone for a minute, log into [WhatsApp](https://web.whatsapp.com/), and run this Python program.\n",
    "\n",
    "> Then sit back and watch as they receive mysterious messages from their own number!"
   ]
  },
  {
   "cell_type": "code",
   "execution_count": null,
   "metadata": {},
   "outputs": [],
   "source": [
    "import pywhatkit as k\n",
    "\n",
    "phoneNumber = \"+91XXXXXXXXXX\"\n",
    "messages = [\"Hello!\", \"What's up?\", \"Don't turn around... something is watching you..\", \"Yuhuuu!! I can see uuuuu...\"]\n",
    "hour = 11\n",
    "minute = 28\n",
    "\n",
    "try:\n",
    "    for m in messages:\n",
    "        \n",
    "        k.sendwhatmsg(phoneNumber, m, hour, minute)\n",
    "        print(f\"Message '{m}' sent successfully.\")\n",
    "        \n",
    "        minute += 1\n",
    "        \n",
    "except Exception as e:\n",
    "    print(\"An error occurred while sending the message:\", e)\n"
   ]
  }
 ],
 "metadata": {
  "kernelspec": {
   "display_name": "Python 3 (ipykernel)",
   "language": "python",
   "name": "python3"
  },
  "language_info": {
   "codemirror_mode": {
    "name": "ipython",
    "version": 3
   },
   "file_extension": ".py",
   "mimetype": "text/x-python",
   "name": "python",
   "nbconvert_exporter": "python",
   "pygments_lexer": "ipython3",
   "version": "3.10.12"
  }
 },
 "nbformat": 4,
 "nbformat_minor": 4
}
